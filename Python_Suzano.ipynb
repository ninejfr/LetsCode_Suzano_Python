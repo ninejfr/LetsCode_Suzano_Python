{
  "nbformat": 4,
  "nbformat_minor": 0,
  "metadata": {
    "colab": {
      "name": "Python_Suzano",
      "provenance": [],
      "collapsed_sections": [],
      "authorship_tag": "ABX9TyOJATf5yeGOXAQ4UhS2q8Kz",
      "include_colab_link": true
    },
    "kernelspec": {
      "name": "python3",
      "display_name": "Python 3"
    },
    "language_info": {
      "name": "python"
    }
  },
  "cells": [
    {
      "cell_type": "markdown",
      "metadata": {
        "id": "view-in-github",
        "colab_type": "text"
      },
      "source": [
        "<a href=\"https://colab.research.google.com/github/ninejfr/LetsCode_Suzano_Pyton/blob/main/Python_Suzano.ipynb\" target=\"_parent\"><img src=\"https://colab.research.google.com/assets/colab-badge.svg\" alt=\"Open In Colab\"/></a>"
      ]
    },
    {
      "cell_type": "code",
      "execution_count": null,
      "metadata": {
        "colab": {
          "base_uri": "https://localhost:8080/"
        },
        "id": "Y7DMETflGSGw",
        "outputId": "4997958a-d890-48dc-ef21-0cfe91d3803e"
      },
      "outputs": [
        {
          "output_type": "stream",
          "name": "stdout",
          "text": [
            "Hello Mundo!\n"
          ]
        }
      ],
      "source": [
        "print(\"Hello Mundo!\")"
      ]
    },
    {
      "cell_type": "code",
      "source": [
        "x = 5\n",
        "print (x)"
      ],
      "metadata": {
        "colab": {
          "base_uri": "https://localhost:8080/"
        },
        "id": "nhnmDXlEbTZs",
        "outputId": "143a080a-733a-41ff-c3e2-0eebc79d8fba"
      },
      "execution_count": null,
      "outputs": [
        {
          "output_type": "stream",
          "name": "stdout",
          "text": [
            "5\n"
          ]
        }
      ]
    },
    {
      "cell_type": "code",
      "source": [
        "print(type(x))"
      ],
      "metadata": {
        "colab": {
          "base_uri": "https://localhost:8080/"
        },
        "id": "DXNmfYV0blGY",
        "outputId": "5d033164-9ef3-4ee0-b8b9-c3dd5523300c"
      },
      "execution_count": null,
      "outputs": [
        {
          "output_type": "stream",
          "name": "stdout",
          "text": [
            "<class 'int'>\n"
          ]
        }
      ]
    },
    {
      "cell_type": "code",
      "source": [
        "# Comentário de 1 Linha\n",
        "'''Bloco de Comentários'''\n"
      ],
      "metadata": {
        "id": "k-Xek15FcvhR"
      },
      "execution_count": null,
      "outputs": []
    },
    {
      "cell_type": "code",
      "source": [
        "x=50\n",
        "y=2\n",
        "\n",
        "print (x+y)\n",
        "print (x-y)\n",
        "print (x*y)\n",
        "print (x/y)\n",
        "\n",
        "print (x**y) #potência\n",
        "print (x//y) #divisão inteira (não arredonda)\n",
        "print (x%y) #resto"
      ],
      "metadata": {
        "colab": {
          "base_uri": "https://localhost:8080/"
        },
        "id": "o9Lb7SBCumQZ",
        "outputId": "3ae7d87c-d54b-406c-a60e-a7e601c6a08c"
      },
      "execution_count": 2,
      "outputs": [
        {
          "output_type": "stream",
          "name": "stdout",
          "text": [
            "52\n",
            "48\n",
            "100\n",
            "25.0\n",
            "2500\n",
            "25\n",
            "0\n"
          ]
        }
      ]
    },
    {
      "cell_type": "code",
      "source": [
        "tem_cafe = True\n",
        "tem_pao = False\n",
        "print (not tem_cafe)\n",
        "print (tem_cafe and tem_pao)\n",
        "print (tem_cafe or tem_pao)"
      ],
      "metadata": {
        "colab": {
          "base_uri": "https://localhost:8080/"
        },
        "id": "dwubL5JRwgDn",
        "outputId": "dfa69aee-d22d-49c2-9d4b-77c7c60e0c9d"
      },
      "execution_count": 11,
      "outputs": [
        {
          "output_type": "stream",
          "name": "stdout",
          "text": [
            "False\n",
            "False\n",
            "True\n"
          ]
        }
      ]
    },
    {
      "cell_type": "code",
      "source": [
        "dolar = 5.3\n",
        "real = 1\n",
        "\n",
        "print (dolar > real)\n",
        "print (dolar < real)\n",
        "print (dolar == real) #igual a\n",
        "print (dolar >= real)\n",
        "print (dolar <= real)\n",
        "print (dolar != real) #diferente de"
      ],
      "metadata": {
        "colab": {
          "base_uri": "https://localhost:8080/"
        },
        "id": "jSAeRFKtx9SL",
        "outputId": "03f26326-a424-44c7-8458-c4903a48be9d"
      },
      "execution_count": 13,
      "outputs": [
        {
          "output_type": "stream",
          "name": "stdout",
          "text": [
            "True\n",
            "False\n",
            "False\n",
            "True\n",
            "False\n",
            "True\n"
          ]
        }
      ]
    }
  ]
}